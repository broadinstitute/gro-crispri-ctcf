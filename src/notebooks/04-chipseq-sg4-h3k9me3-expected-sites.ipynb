{
 "cells": [
  {
   "cell_type": "code",
   "execution_count": null,
   "metadata": {},
   "outputs": [],
   "source": [
    "#install required R packages \n",
    "suppressMessages(install.packages(\"BiocManager\"))\n",
    "suppressMessages(BiocManager::install(c('tidyr','dplyr','ggplot2','GenomicRanges','ggsignif')))"
   ]
  },
  {
   "cell_type": "code",
   "execution_count": null,
   "metadata": {},
   "outputs": [],
   "source": [
    "library(\"tidyr\")\n",
    "library(\"dplyr\")\n",
    "library(\"ggplot2\")\n",
    "library(\"GenomicRanges\")\n",
    "library(\"ggsignif\")\n",
    "options(repr.plot.width=15, repr.plot.height=10)\n",
    "\n",
    "#set working directory\n",
    "\n",
    "dir.create(\"chipseq/\")\n",
    "setwd(\"chipseq/\")"
   ]
  },
  {
   "cell_type": "code",
   "execution_count": null,
   "metadata": {},
   "outputs": [],
   "source": [
    "#download required count matrix. GEO ID given here\n",
    "\n",
    "#"
   ]
  },
  {
   "cell_type": "code",
   "execution_count": null,
   "metadata": {},
   "outputs": [],
   "source": [
    "#retreive CTCF motifs from JASPAR\n",
    "\n",
    "suppressMessages(library(AnnotationHub))\n",
    "ah <- AnnotationHub()\n",
    "query_data <- subset(ah, preparerclass == \"CTCF\")\n",
    "query_data\n",
    "CTCF_hg38 <- query_data[[\"AH104729\"]]\n",
    "CTCF_hg38"
   ]
  },
  {
   "cell_type": "code",
   "execution_count": null,
   "metadata": {},
   "outputs": [],
   "source": [
    "#set up annotations for h3_norm_counts dataframe \n",
    "\n",
    "sites_10mer = read.table(\"sg4_10mer_seq.bed\", sep = \"\\t\")\n",
    "\n",
    "grsites_10mer = makeGRangesFromDataFrame(sites_10mer, seqnames.field = \"V1\", start.field = \"V2\", end.field = \"V3\")\n",
    "\n",
    "ov = findOverlaps(grsites_10mer, resize(CTCF_hg38, 500, fix = \"center\"))\n",
    "\n",
    "sites_10mer$site = \"10mer\""
   ]
  },
  {
   "cell_type": "code",
   "execution_count": null,
   "metadata": {},
   "outputs": [],
   "source": [
    "#read h3k9me3 counts in 5kbp windows around each motif, calculate CPM\n",
    "\n",
    "h3x = read.table(\"hg38_5kb_h3_counts.tsv\", sep = \"\\t\")\n",
    "y = DGEList(counts = h3x)\n",
    "h3_norm_counts <- as.data.frame(cpm(y, log=FALSE))\n",
    "h3_norm_counts = h3_norm_counts[rownames(h3x),]\n",
    "\n",
    "h3_norm_counts$chr = str_split_fixed(rownames(h3_norm_counts),\"[.]\", n =3)[,1]\n",
    "h3_norm_counts$start = str_split_fixed(rownames(h3_norm_counts),\"[.]\", n =3)[,2]\n",
    "h3_norm_counts$end = str_split_fixed(rownames(h3_norm_counts),\"[.]\", n =3)[,3]\n",
    "\n",
    "h3ov =findOverlaps(grsites_10mer, makeGRangesFromDataFrame(h3_norm_counts, seqnames.field = \"chr\", start.field = \"start\", end.field = \"end\"))\n",
    "\n",
    "h3_norm_counts = h3_norm_counts[rownames(h3x),]\n",
    "h3_norm_counts$site = \"no_site\"\n",
    "h3_norm_counts[subjectHits(h3ov), \"site\"] = sites_10mer[queryHits(h3ov),\"site\"]\n",
    "\n",
    "h3_norm_counts = h3_norm_counts %>% arrange(desc(site))\n"
   ]
  },
  {
   "cell_type": "code",
   "execution_count": null,
   "metadata": {},
   "outputs": [],
   "source": [
    "head(h3_norm_counts)"
   ]
  },
  {
   "cell_type": "code",
   "execution_count": null,
   "metadata": {},
   "outputs": [],
   "source": [
    "#filter H3K9me3 counts based on quantile - 90th percentile value in atleast 3 samples\n",
    "\n",
    "subcol = c(\"Safe.Harbor.H3k9me3.rep1.bam\", \"sg10mer.H3k9me3.rep1.bam\", \"Safe.Harbor.H3k9me3.rep2.bam\", \"sg10mer.H3k9me3.rep2.bam\" )\n",
    "h3_counts_cpm = as.matrix(h3_norm_counts[,subcol])\n",
    "hist(h3_counts_cpm, breaks = 100)\n",
    "quantile(h3_counts_cpm, c(0.9, 0.95))\n",
    "nrow( h3_counts_cpm[rowSums(h3_counts_cpm >= 1) > 2,] )\n",
    "h3_counts_cpm_filt = h3_counts_cpm[rowSums(h3_counts_cpm >= 1) > 2,]"
   ]
  },
  {
   "cell_type": "code",
   "execution_count": null,
   "metadata": {},
   "outputs": [],
   "source": [
    "h3_counts_df = as.data.frame(h3_counts_cpm_filt) %>% filter( rownames(h3_counts_cpm_filt) %in% rownames(h3_norm_counts %>% filter(site != \"no_site\")) )\n",
    "plot_df = pivot_longer(h3_counts_df, cols = c(1:4))\n",
    "plot_df$group = \"sg4_sites\"\n",
    "\n",
    "ggplot(data=plot_df ,aes(x = name, y = value)) + geom_boxplot() + \n",
    "  geom_point(position = position_jitter(seed = 1, width = 0.1))"
   ]
  },
  {
   "cell_type": "code",
   "execution_count": null,
   "metadata": {},
   "outputs": [],
   "source": [
    "#cross condition t.test pvalues \n",
    "\n",
    "t.test(h3_counts_df$Safe.Harbor.H3k9me3.rep1.bam, h3_counts_df$sg10mer.H3k9me3.rep1.bam)$p.value #1x1\n",
    "t.test(h3_counts_df$Safe.Harbor.H3k9me3.rep1.bam, h3_counts_df$sg10mer.H3k9me3.rep3.bam)$p.value #1x2\n",
    "t.test(h3_counts_df$Safe.Harbor.H3k9me3.rep3.bam, h3_counts_df$sg10mer.H3k9me3.rep1.bam)$p.value #2x1 \n",
    "t.test(h3_counts_df$Safe.Harbor.H3k9me3.rep3.bam, h3_counts_df$sg10mer.H3k9me3.rep3.bam)$p.value #2x2"
   ]
  },
  {
   "cell_type": "code",
   "execution_count": null,
   "metadata": {},
   "outputs": [],
   "source": [
    "#cross replicate t.test pvalues \n",
    "\n",
    "t.test(h3_counts_df$Safe.Harbor.H3k9me3.rep1.bam, h3_counts_df$Safe.Harbor.H3k9me3.rep3.bam)$p.value #1x2\n",
    "t.test(h3_counts_df$sg10mer.H3k9me3.rep1.bam, h3_counts_df$sg10mer.H3k9me3.rep3.bam)$p.value #1x2\n"
   ]
  },
  {
   "cell_type": "code",
   "execution_count": null,
   "metadata": {},
   "outputs": [],
   "source": [
    "mat_check = as.data.frame(h3_counts_cpm_filt) %>% filter( rownames(h3_counts_cpm_filt) %in% rownames(h3_norm_counts %>% filter(site != \"no_site\")) )\n",
    "mat_check$mean_safe = rowMeans(mat_check[,c(\"Safe.Harbor.H3k9me3.rep1.bam\", \"Safe.Harbor.H3k9me3.rep2.bam\")])\n",
    "mat_check$mean_10mer = rowMeans(mat_check[,c(\"sg10mer.H3k9me3.rep1.bam\", \"sg10mer.H3k9me3.rep2.bam\")])\n",
    "plot_df = pivot_longer(mat_check, cols = c(5,6))\n",
    "#plot_df$group = \"sig_sites\"\n",
    "\n",
    "colorder=c(\"red\",\"blue\")\n",
    "\n",
    "ggplot(data=plot_df ,aes(x = reorder(name, value), y = value, fill = name)) + \n",
    "geom_boxplot() + \n",
    "geom_point(position = position_jitter(seed = 1, width = 0.1)) +\n",
    "geom_signif(comparisons = list(c(\"mean_safe\", \"mean_10mer\")), map_signif_level=TRUE, size = 1, textsize = 8) + \n",
    "ylab(\"Normalized H3K9me3 counts\") +\n",
    "scale_x_discrete(name=\"\", labels=c(\"mean_safe\" = \"Safe Harbor\", 'mean_10mer'= '10mer')) + \n",
    "scale_fill_manual( labels=c('10mer',\"Safe Harbor\"), values= c(\"#b30000\",\"#00BFC4\")) + \n",
    "theme_classic() + \n",
    "theme(axis.text = element_text(size = 18), \n",
    "      axis.text.x = element_text(margin = margin(t = 10, r = 0, b = 0, l = 0), colour = \"black\"),\n",
    "      axis.text.y = element_text(colour = \"black\"),\n",
    "      axis.title = element_text(size = 20), \n",
    "      legend.text = element_text(size = 15),\n",
    "      legend.title = element_text(size=15),\n",
    "      legend.position = \"none\",\n",
    "      axis.title.y = element_text(margin = margin(t = 0, r = 20, b = 0, l = 0)))"
   ]
  },
  {
   "cell_type": "code",
   "execution_count": null,
   "metadata": {},
   "outputs": [],
   "source": [
    "t.test(mat_check$mean_safe, mat_check$mean_10mer)$p.value #1x1\n"
   ]
  },
  {
   "cell_type": "code",
   "execution_count": null,
   "metadata": {},
   "outputs": [],
   "source": [
    "ggplot(data=plot_df ,aes(x = reorder(name, value), y = value, fill = name)) + \n",
    "geom_boxplot() + \n",
    "geom_point(position = position_jitter(seed = 1, width = 0.1)) +\n",
    "geom_signif(comparisons = list(c(\"mean_safe\", \"mean_10mer\")), map_signif_level=TRUE, size = 1, textsize = 8) + \n",
    "ylab(\"Normalized H3K9me3 counts\") +\n",
    "scale_x_discrete(name=\"\", labels=c(\"mean_safe\" = \"Safe Harbor\", 'mean_10mer'= '10mer')) + \n",
    "scale_fill_discrete( labels=c('10mer',\"Safe Harbor\")) + \n",
    "theme_classic() + \n",
    "theme(axis.text = element_text(size = 18), \n",
    "      axis.text.x = element_text(margin = margin(t = 10, r = 0, b = 0, l = 0), colour = \"black\"),\n",
    "      axis.text.y = element_text(colour = \"black\"),\n",
    "      axis.title = element_text(size = 20), \n",
    "      legend.text = element_text(size = 15),\n",
    "      legend.title = element_text(size=15),\n",
    "      legend.position = \"none\",\n",
    "      axis.title.y = element_text(margin = margin(t = 0, r = 20, b = 0, l = 0)))\n"
   ]
  }
 ],
 "metadata": {
  "kernelspec": {
   "display_name": "R",
   "language": "R",
   "name": "ir"
  },
  "language_info": {
   "codemirror_mode": "r",
   "file_extension": ".r",
   "mimetype": "text/x-r-source",
   "name": "R",
   "pygments_lexer": "r",
   "version": "4.1.2"
  },
  "toc": {
   "base_numbering": 1,
   "nav_menu": {},
   "number_sections": true,
   "sideBar": true,
   "skip_h1_title": false,
   "title_cell": "Table of Contents",
   "title_sidebar": "Contents",
   "toc_cell": false,
   "toc_position": {},
   "toc_section_display": true,
   "toc_window_display": false
  }
 },
 "nbformat": 4,
 "nbformat_minor": 2
}
