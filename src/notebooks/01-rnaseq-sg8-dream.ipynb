{
 "cells": [
  {
   "cell_type": "code",
   "execution_count": null,
   "metadata": {},
   "outputs": [],
   "source": [
    "## This analysis script is used to create Supp Fig. 8b,d "
   ]
  },
  {
   "cell_type": "code",
   "execution_count": null,
   "metadata": {},
   "outputs": [],
   "source": [
    "#install required R packages \n",
    "suppressMessages(install.packages(\"BiocManager\"))\n",
    "suppressMessages(BiocManager::install(c('tximport','edgeR','variancePartition','BiocParallel','pheatmap')))"
   ]
  },
  {
   "cell_type": "code",
   "execution_count": null,
   "metadata": {},
   "outputs": [],
   "source": [
    "suppressMessages(library('tximport'))\n",
    "suppressMessages(library('edgeR'))\n",
    "suppressMessages(library('variancePartition'))\n",
    "suppressMessages(library('BiocParallel'))\n",
    "suppressMessages(library('pheatmap'))\n",
    "\n",
    "#set working directory\n",
    "\n",
    "dir.create(\"rnaseq/\")\n",
    "setwd(\"rnaseq/\")\n"
   ]
  },
  {
   "cell_type": "code",
   "execution_count": null,
   "metadata": {},
   "outputs": [],
   "source": [
    "#download required h5 matrices in this directory. GEO IDs given here\n",
    "\n",
    "#GSM7881226 - Jurkat Safe Harbor RNA-seq rep1\n",
    "#GSM7881227 - Jurkat Safe Harbor RNA-seq rep2\n",
    "#GSM7881233 - Jurkat sg8 RNA-seq rep1\n",
    "#GSM7881234 - Jurkat sg8 RNA-seq rep1"
   ]
  },
  {
   "cell_type": "code",
   "execution_count": null,
   "metadata": {},
   "outputs": [],
   "source": [
    "#set up design matrix and transcripts-to-gene dataframe\n",
    "\n",
    "design_df = read.csv(\"https://raw.githubusercontent.com/broadinstitute/gro-crispri-ctcf/dev/data/sg8_rnaseq.tsv\", sep = \"\\t\")\n",
    "rownames(design_df) = stringr::str_split_fixed(design_df$file, \".h5\",2)[,1]\n",
    "design_df$sample = rownames(design_df)\n",
    "design_df$condition = as.factor(design_df$condition)\n",
    "design_df$condition = relevel(design_df$condition, ref = \"Safe-Harbor\")\n",
    "names(design_df) = c(\"path\", \"condition\", \"rep\", \"exp_day\", \"sample\")\n",
    "\n",
    "t2g = read.table(\"transcripts_to_genes.txt\", stringsAsFactors = F, header=F, sep = \"\\t\")\n",
    "colnames(t2g) = c(\"target_id\", \"ens_gene\", \"gene_id\")\n",
    "t2g = t2g[,c(\"target_id\",\"gene_id\")]\n",
    "\n",
    "design_df"
   ]
  },
  {
   "cell_type": "code",
   "execution_count": null,
   "metadata": {},
   "outputs": [],
   "source": [
    "#load h5 matrices \n",
    "\n",
    "source(\"https://raw.githubusercontent.com/mikelove/tximport/devel/R/helper.R\")\n",
    "files = paste0(rownames(design_df),\".h5\")\n",
    "names(files) = rownames(design_df)\n",
    "txi <- tximport(files, type=\"kallisto\", tx2gene=t2g, geneIdCol = \"gene_name\", importer=read_kallisto_h5)\n"
   ]
  },
  {
   "cell_type": "code",
   "execution_count": null,
   "metadata": {},
   "outputs": [],
   "source": [
    "#set up count matrix, filter, and normalize\n",
    "\n",
    "x = txi$counts\n",
    "isexpr = rowSums(cpm(x)>0) >= nrow(design_df)\n",
    "sum(isexpr)\n",
    "y = DGEList(counts = x[isexpr,])\n",
    "y = calcNormFactors( y )"
   ]
  },
  {
   "cell_type": "code",
   "execution_count": null,
   "metadata": {},
   "outputs": [],
   "source": [
    "#set up threading parameters\n",
    "\n",
    "param = SnowParam(6, \"SOCK\", progressbar=TRUE)"
   ]
  },
  {
   "cell_type": "code",
   "execution_count": null,
   "metadata": {},
   "outputs": [],
   "source": [
    "#run variancePartition model\n",
    "\n",
    "varPart <- fitExtractVarPartModel( cpm(y), ~ (1|condition) + (1|rep), design_df, BPPARAM=param )\n",
    "vp <- sortCols( varPart )\n",
    "plotVarPart( vp )"
   ]
  },
  {
   "cell_type": "code",
   "execution_count": null,
   "metadata": {},
   "outputs": [],
   "source": [
    "#run voom with dream weights model\n",
    "\n",
    "form <- ~ condition + (1|rep) \n",
    "vobjDream = voomWithDreamWeights( cpm(y), form, design_df, BPPARAM=param )\n"
   ]
  },
  {
   "cell_type": "code",
   "execution_count": null,
   "metadata": {},
   "outputs": [],
   "source": [
    "#run dream model\n",
    "\n",
    "fitmm = dream( vobjDream, form, design_df, BPPARAM=param )\n"
   ]
  },
  {
   "cell_type": "code",
   "execution_count": null,
   "metadata": {},
   "outputs": [],
   "source": [
    "#run eBayes model \n",
    "\n",
    "fitmm = eBayes(fitmm)"
   ]
  },
  {
   "cell_type": "code",
   "execution_count": null,
   "metadata": {},
   "outputs": [],
   "source": [
    "##Uncomment if you would like to save the fitmm object\n",
    "\n",
    "#saveRDS(fitmm,\"~/fitmm_sg8_rnaseq.rds\")\n",
    "#fitmm = readRDS(\"~/fitmm_sg8_rnaseq.rds\")"
   ]
  },
  {
   "cell_type": "code",
   "execution_count": null,
   "metadata": {},
   "outputs": [],
   "source": [
    "#display top 10 significant results between 10mer and Safe Harbor \n",
    "\n",
    "topTable( fitmm, coef='condition10-mer', number = 10)"
   ]
  },
  {
   "cell_type": "code",
   "execution_count": null,
   "metadata": {},
   "outputs": [],
   "source": [
    "#extract significant results between 10mer and Safe Harbor \n",
    "\n",
    "var_df_res = as.data.frame(topTable( fitmm, coef='condition10-mer', number = Inf))\n",
    "var_df_res[which((abs(var_df_res$logFC) > 1) & (abs(var_df_res$z.std) > 3)),]"
   ]
  },
  {
   "cell_type": "code",
   "execution_count": null,
   "metadata": {},
   "outputs": [],
   "source": [
    "#volcano plot\n",
    "\n",
    "ggplot(data= var_df_res, aes(x= logFC, y= -log10(adj.P.Val))) +\n",
    "     geom_point(colour= 'grey80', size = 2) +\n",
    "     geom_point(data= var_df_res[which((abs(var_df_res$logFC) > 1) & (abs(var_df_res$z.std) > 3)),], colour= 'red') +\n",
    "     geom_vline(xintercept= c(-1, 1), colour= 'blue', linetype= 'dashed') +\n",
    "     geom_hline(yintercept= 1, colour= 'blue', linetype= 'dashed') +\n",
    "     #geom_point(data= , colour= 'orange')\n",
    "     xlab('log2 fold-change') +\n",
    "     ylab('-log10(adj.P.Val)') +\n",
    "     theme_classic()"
   ]
  },
  {
   "cell_type": "code",
   "execution_count": null,
   "metadata": {},
   "outputs": [],
   "source": [
    "#heatmap of normalized counts of top DE 100 genes \n",
    "\n",
    "options(repr.plot.width=15, repr.plot.height=15)\n",
    "\n",
    "anncol = data.frame(group = design_df$condition)\n",
    "rownames(anncol) <- rownames(design_df)\n",
    "pheatmap(mat = vobjDream$E[rownames(topTable( fitmm, coef='condition10-mer', number = 100)),], \n",
    "         cluster_cols = T, annotation_col = anncol,  color = hcl.colors(50, \"OrRd\", rev = T))"
   ]
  }
 ],
 "metadata": {
  "kernelspec": {
   "display_name": "R",
   "language": "R",
   "name": "ir"
  },
  "language_info": {
   "codemirror_mode": "r",
   "file_extension": ".r",
   "mimetype": "text/x-r-source",
   "name": "R",
   "pygments_lexer": "r",
   "version": "4.1.2"
  },
  "toc": {
   "base_numbering": 1,
   "nav_menu": {},
   "number_sections": true,
   "sideBar": true,
   "skip_h1_title": false,
   "title_cell": "Table of Contents",
   "title_sidebar": "Contents",
   "toc_cell": false,
   "toc_position": {},
   "toc_section_display": true,
   "toc_window_display": false
  }
 },
 "nbformat": 4,
 "nbformat_minor": 2
}
