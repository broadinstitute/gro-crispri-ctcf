{
 "cells": [
  {
   "cell_type": "code",
   "execution_count": null,
   "metadata": {},
   "outputs": [],
   "source": [
    "## This analysis script is used to create Supp Fig. 7e"
   ]
  },
  {
   "cell_type": "code",
   "execution_count": null,
   "metadata": {},
   "outputs": [],
   "source": [
    "#install required R packages \n",
    "suppressMessages(install.packages(\"BiocManager\"))\n",
    "suppressMessages(BiocManager::install(c('pheatmap','stringr','ggseqlogo','BSgenome.Hsapiens.UCSC.hg38','GenomicRanges','CTCF','dplyr','patchwork','ggplot2')))"
   ]
  },
  {
   "cell_type": "code",
   "execution_count": null,
   "metadata": {},
   "outputs": [],
   "source": [
    "suppressMessages(library(\"CTCF\"))\n",
    "suppressMessages(library(\"dplyr\"))\n",
    "suppressMessages(library(\"ggplot2\"))\n",
    "suppressMessages(library(\"patchwork\"))\n",
    "suppressMessages(library(\"GenomicRanges\"))\n",
    "suppressMessages(library(\"stringr\"))\n",
    "suppressMessages(library(\"ggseqlogo\"))\n",
    "suppressMessages(library(\"BSgenome.Hsapiens.UCSC.hg38\"))\n",
    "suppressMessages(library(\"pheatmap\"))\n",
    "\n",
    "options(repr.plot.width=15, repr.plot.height=10)\n",
    "\n",
    "#set working directory\n",
    "dir.create(\"chipseq/\")\n",
    "setwd(\"chipseq/\")\n"
   ]
  },
  {
   "cell_type": "code",
   "execution_count": null,
   "metadata": {
    "code_folding": []
   },
   "outputs": [],
   "source": [
    "#helper functions\n",
    "\n",
    "#functions to find differences in motif and their position\n",
    "\n",
    "find_diff_pos = function(x,y){\n",
    "    pos = list()\n",
    "    string1 = str_split(x,\"\")[[1]]\n",
    "    string2 = str_split(y,\"\")[[1]]\n",
    "    for(i in 1:length(string1)){\n",
    "       if(string1[i] != string2[i]){\n",
    "           pos[i] = i\n",
    "       }\n",
    "    }\n",
    "    return(pos[!unlist(lapply(pos, is.null))])\n",
    "}\n",
    "\n",
    "find_diff_seq = function(x,y){\n",
    "    pos = list()\n",
    "    string1 = str_split(x,\"\")[[1]]\n",
    "    string2 = str_split(y,\"\")[[1]]\n",
    "    for(i in 1:length(string1)){\n",
    "       if(string1[i] != string2[i]){\n",
    "           pos[i] = string1[i]\n",
    "       }\n",
    "    }\n",
    "    return(pos[!unlist(lapply(pos, is.null))])\n",
    "}\n",
    "\n",
    "#function to write fasta file \n",
    "\n",
    "writeFasta<-function(data, filename){\n",
    "  fastaLines = c()\n",
    "  for (rowNum in 1:nrow(data)){\n",
    "    fastaLines = c(fastaLines, as.character(paste(\">\", paste0(data[rowNum,\"chr\"],':',data[rowNum,\"new_start\"],\"-\",data[rowNum,\"new_end\"]), sep = \"\")))\n",
    "    fastaLines = c(fastaLines,as.character(data[rowNum,\"seq\"]))\n",
    "  }\n",
    "  fileConn<-file(filename)\n",
    "  writeLines(fastaLines, fileConn)\n",
    "  close(fileConn)\n",
    "}"
   ]
  },
  {
   "cell_type": "code",
   "execution_count": null,
   "metadata": {},
   "outputs": [],
   "source": [
    "suppressMessages(library(AnnotationHub))\n",
    "ah <- AnnotationHub()\n",
    "query_data <- subset(ah, preparerclass == \"CTCF\")\n",
    "# Explore the AnnotationHub object\n",
    "query_data\n",
    "CTCF_hg38 <- query_data[[\"AH104729\"]]\n",
    "\n",
    "ctcf = as.data.frame(resize(CTCF_hg38, 500, fix = \"center\"))\n",
    "ctcf$id = paste0(ctcf$seqnames,\".\", ctcf$start,\".\",ctcf$end)\n",
    "ctcf = ctcf[,c(\"id\", \"seqnames\",\"start\",\"end\",\"strand\")]\n",
    "colnames(ctcf) = c(\"GeneID\",\"Chr\",\"Start\",\"End\",\"Strand\")"
   ]
  },
  {
   "cell_type": "code",
   "execution_count": null,
   "metadata": {},
   "outputs": [],
   "source": [
    "#Run 08-chipseq-sg8-ctcf-dream.ipynb to get pvals from dream\n",
    "\n",
    "dream_test_res = read.table(\"sg4-ctcf-dream-pvals.tsv\", sep = \"\\t\", stringsAsFactors = F)\n",
    "head(dream_test_res)\n",
    "nrow(dream_test_res)"
   ]
  },
  {
   "cell_type": "code",
   "execution_count": null,
   "metadata": {},
   "outputs": [],
   "source": [
    "#Extract significant results\n",
    "fc_cut = 0.5\n",
    "p_cut = 1e-5\n",
    "\n",
    "sig_df = dream_test_res %>% filter( (abs(logFC) > fc_cut) & (abs(adj.P.Val) < p_cut) )\n",
    "sig_df$chr = str_split_fixed(rownames(sig_df),\"[.]\", n =3)[,1]\n",
    "sig_df$start = as.double(str_split_fixed(rownames(sig_df),\"[.]\", n =3)[,2])\n",
    "sig_df$end = as.double(str_split_fixed(rownames(sig_df),\"[.]\", n =3)[,3])\n",
    "nrow(sig_df)"
   ]
  },
  {
   "cell_type": "code",
   "execution_count": null,
   "metadata": {},
   "outputs": [],
   "source": [
    "#Create Granges object of significant hits. Add \"site\" column \n",
    "\n",
    "grsites_sig = makeGRangesFromDataFrame(sig_df, seqnames.field = \"chr\", start.field = \"start\", end.field = \"end\", keep.extra.columns = T)\n",
    "sites_10mer = read.table(\"~/data/sites/sg4_10mer_seq.bed\", sep = \"\\t\")\n",
    "grsites_10mer = makeGRangesFromDataFrame(sites_10mer, seqnames.field = \"V1\", start.field = \"V2\", end.field = \"V3\")\n",
    "ov = findOverlaps(grsites_10mer, grsites_sig)\n",
    "grsites_sig$site = \"no_site\"\n",
    "grsites_sig[subjectHits(ov),]$site = \"10mer\"\n"
   ]
  },
  {
   "cell_type": "code",
   "execution_count": null,
   "metadata": {},
   "outputs": [],
   "source": [
    "#Create two separate granges of sig hits (perfect match and partial match)\n",
    "#Retrieve motif sequence from JASPAR for those sites\n",
    "\n",
    "grsites_sig_target = grsites_sig[(elementMetadata(grsites_sig)[, \"site\"] %in% c(\"10mer\"))]\n",
    "grsites_sig_nottarget = grsites_sig[(elementMetadata(grsites_sig)[, \"site\"] %in% c(\"no_site\"))]\n",
    "\n",
    "ov1 = findOverlaps(grsites_sig_target, CTCF_hg38)\n",
    "ov2 = findOverlaps(grsites_sig_nottarget, CTCF_hg38)\n",
    "\n",
    "targetsdf = as.data.frame(CTCF_hg38[subjectHits(ov1),])\n",
    "targetsdf = targetsdf[,c(\"seqnames\",\"start\",\"end\",\"sequence\")]\n",
    "colnames(targetsdf) = c(\"chr\",\"new_start\",\"new_end\",\"seq\")\n",
    "nontargetsdf = as.data.frame(CTCF_hg38[subjectHits(ov2),])\n",
    "nontargetsdf = nontargetsdf[,c(\"seqnames\",\"start\",\"end\",\"sequence\")]\n",
    "colnames(nontargetsdf) = c(\"chr\",\"new_start\",\"new_end\",\"seq\")\n"
   ]
  },
  {
   "cell_type": "code",
   "execution_count": null,
   "metadata": {},
   "outputs": [],
   "source": [
    "##write out fasta files of sequences.\n",
    "\n",
    "#writeFasta(targetsdf, \"sg4_sig_targets_pval_5_ctcfmotifs.fa\")\n",
    "#writeFasta(nontargetsdf, \"sg4_sig_not_targets_pval_5_ctcfmotifs.fa\")"
   ]
  },
  {
   "cell_type": "code",
   "execution_count": null,
   "metadata": {},
   "outputs": [],
   "source": [
    "## Use mafft to locally align sequences to each other\n",
    "\n",
    "# !mafft.bat --adjustdirectionaccurately sg4_sig_targets_pval_5_ctcfmotifs.fa > sg4_sig_targets_pval_5_ctcfmotifs_mafft.fa\n",
    "# !mafft.bat --adjustdirectionaccurately sg4_sig_not_targets_pval_5_ctcfmotifs.fa > sg4_sig_not_targets_pval_5_ctcfmotifs_mafft.fa"
   ]
  },
  {
   "cell_type": "code",
   "execution_count": null,
   "metadata": {},
   "outputs": [],
   "source": [
    "# Create logogram\n",
    "\n",
    "bs = Biostrings::readDNAStringSet(\"sg4_sig_targets_pval_5_ctcfmotifs_mafft.fa\")\n",
    "bs = reverseComplement(bs)\n",
    "p11= ggseqlogo(consensusMatrix(bs)[c('A','C','G','T'),])\n",
    "\n",
    "bs = Biostrings::readDNAStringSet(\"sg4_sig_not_targets_pval_5_ctcfmotifs_mafft.fa\")\n",
    "bs = reverseComplement(bs)\n",
    "p12= ggseqlogo(consensusMatrix(bs)[c('A','C','G','T'),])\n",
    "p11 + p12 + plot_layout(ncol = 1)"
   ]
  },
  {
   "cell_type": "code",
   "execution_count": null,
   "metadata": {},
   "outputs": [],
   "source": [
    "#find differences in positions in significant partial match sites\n",
    "\n",
    "nontargetsdf$subseq = toupper(substr(nontargetsdf$seq,2,11) )\n",
    "nontargetsdf$subseq_rev = stringi::stri_reverse(chartr(\"ATGC\",\"TACG\",toupper(substr(nontargetsdf$seq,7,16))))\n",
    "nontargetsdf$mismatches = mapply(min, mapply(adist,nontargetsdf$subseq,\"TGCCATCTAC\"), mapply(adist,nontargetsdf$subseq_rev,\"TGCCATCTAC\"))\n",
    "\n",
    "head(nontargetsdf)\n",
    "nrow(nontargetsdf)"
   ]
  },
  {
   "cell_type": "code",
   "execution_count": null,
   "metadata": {},
   "outputs": [],
   "source": [
    "#create heatmap of positions vs # of mismatches in partial match sites\n",
    "\n",
    "diff_meta = data.frame(id = 1:length(unlist(nontargetsdf$diff_pos)))\n",
    "diff_meta$length = 0\n",
    "diff_meta$positions = 0\n",
    "k=1\n",
    "for(i in 1:nrow(nontargetsdf)){\n",
    "    for(j in 1:nontargetsdf[i,]$diff_length){\n",
    "\n",
    "        diff_meta[k,]$length = nontargetsdf[i,]$diff_length\n",
    "        diff_meta[k,]$positions = unlist(nontargetsdf[i,]$diff_pos[[1]][j])\n",
    "        k = k+1\n",
    "    }\n",
    "}\n",
    "\n",
    "output = as.matrix(table(diff_meta[,c(\"length\",\"positions\")]))\n",
    "output\n",
    "pheatmap(mat = output, fontsize = 14, cluster_rows = F, cluster_cols = F,\n",
    "        color = hcl.colors(50, \"OrRd\", rev = T),fontsize_col=20,fontsize_row=20)"
   ]
  },
  {
   "cell_type": "code",
   "execution_count": null,
   "metadata": {},
   "outputs": [],
   "source": [
    "#create histogram of number of mismatches \n",
    "\n",
    "df = as.data.frame(table(nontargetsdf$diff_length), stringsAsFactors=F)\n",
    "df[nrow(df) + 1,] = c(0,nrow(targetsdf))\n",
    "\n",
    "p = ggplot(data = df) + \n",
    "geom_bar(aes(x = Var1, y = Freq, fill=factor(ifelse(Var1==\"0\",\"Targets\",\"Off-targets\"))), stat = \"identity\", show.legend = FALSE) +\n",
    "scale_fill_manual(name = \"# of mismatches in significant motifs\", values=c(\"grey60\", \"black\")) +\n",
    "xlab(\"# of mismatches to sg4 target sequence\") + \n",
    "ylab(\"# of significant motifs\") +\n",
    "theme_classic() +\n",
    "theme(axis.text = element_text(size = 18), \n",
    "      axis.text.x = element_text(margin = margin(t = 10, r = 0, b = 0, l = 0), colour = \"black\"),\n",
    "      axis.text.y = element_text(colour = \"black\"),\n",
    "      axis.title = element_text(size = 20), \n",
    "      legend.text = element_text(size = 15),\n",
    "      legend.title = element_text(size=15),\n",
    "      axis.title.y = element_text(margin = margin(t = 0, r = 20, b = 0, l = 0)))\n",
    "p\n",
    "\n"
   ]
  },
  {
   "cell_type": "code",
   "execution_count": null,
   "metadata": {},
   "outputs": [],
   "source": [
    "#volcano plot colored by # of mismatches\n",
    "\n",
    "mcols(grsites_sig_target)$mismatch = 0\n",
    "mcols(grsites_sig_nottarget)$mismatch = nontargetsdf$diff_length\n",
    "\n",
    "df = rbind(as.data.frame(grsites_sig_nottarget),as.data.frame(grsites_sig_target))\n",
    "df$mismatch = as.character(df$mismatch)\n",
    "head(df)\n",
    "\n",
    "p_cut = 1e-5\n",
    "fc_cut = 0.5\n",
    "\n",
    "p = ggplot(data= dream_test_res, aes(x= logFC, y= -log10(adj.P.Val))) +\n",
    "    ggrastr::rasterize(geom_point(colour= 'grey80', size = 2)) +\n",
    "    geom_point(data = dream_test_res %>% filter(site == \"10mer\"), aes(x= logFC, y= -log10(adj.P.Val)),colour= 'black', size = 3) +\n",
    "    geom_point(data = df, aes(x= logFC, y= -log10(adj.P.Val), color = mismatch), size = 3) +\n",
    "    geom_hline(yintercept= c(-log10(p_cut)), colour= 'black', linetype= 'dashed') +\n",
    "    geom_vline(xintercept= c(-fc_cut,fc_cut), colour= 'black', linetype= 'dashed') +\n",
    "    xlab('log2 fold-change') +\n",
    "    ylab('-log10(adj.P.Val)') +\n",
    "    scale_color_manual(name = \"Mismatches\", \n",
    "                   values= c(\"black\",\"red\",\"orange\",\"gold\",\"lightblue\",\"darkgreen\",\"pink\"), \n",
    "                   labels = c(\"0\", \"1\",\"2\",\"3\",\"4\",\"5\",\"6\")) +\n",
    "    theme_classic() +\n",
    "    theme(axis.text = element_text(size = 18), \n",
    "      axis.text.x = element_text(margin = margin(t = 10, r = 0, b = 0, l = 0), colour = \"black\"),\n",
    "      axis.text.y = element_text(colour = \"black\"),\n",
    "      axis.title = element_text(size = 20), \n",
    "      legend.text = element_text(size = 15),\n",
    "      legend.title = element_text(size=15),\n",
    "      axis.title.y = element_text(margin = margin(t = 0, r = 20, b = 0, l = 0)))\n",
    "\n",
    "p\n"
   ]
  }
 ],
 "metadata": {
  "kernelspec": {
   "display_name": "R",
   "language": "R",
   "name": "ir"
  },
  "language_info": {
   "codemirror_mode": "r",
   "file_extension": ".r",
   "mimetype": "text/x-r-source",
   "name": "R",
   "pygments_lexer": "r",
   "version": "4.1.2"
  },
  "toc": {
   "base_numbering": 1,
   "nav_menu": {},
   "number_sections": true,
   "sideBar": true,
   "skip_h1_title": false,
   "title_cell": "Table of Contents",
   "title_sidebar": "Contents",
   "toc_cell": false,
   "toc_position": {},
   "toc_section_display": true,
   "toc_window_display": false
  }
 },
 "nbformat": 4,
 "nbformat_minor": 2
}
