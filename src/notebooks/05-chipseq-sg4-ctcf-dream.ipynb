{
 "cells": [
  {
   "cell_type": "code",
   "execution_count": null,
   "metadata": {},
   "outputs": [],
   "source": [
    "#install required R packages \n",
    "suppressMessages(install.packages(\"BiocManager\"))\n",
    "suppressMessages(BiocManager::install(c('GenomicRanges','BiocParallel','CTCF','tidyr','dplyr','edgeR','ggplot2','variancePartition')))"
   ]
  },
  {
   "cell_type": "code",
   "execution_count": null,
   "metadata": {
    "scrolled": false
   },
   "outputs": [],
   "source": [
    "suppressMessages(library(\"CTCF\"))\n",
    "suppressMessages(library(\"tidyr\"))\n",
    "suppressMessages(library(\"dplyr\"))\n",
    "suppressMessages(library(\"edgeR\"))\n",
    "suppressMessages(library(\"ggplot2\"))\n",
    "suppressMessages(library('variancePartition'))\n",
    "suppressMessages(library('BiocParallel'))\n",
    "suppressMessages(library('GenomicRanges'))\n",
    "\n",
    "options(repr.plot.width=15, repr.plot.height=10)\n",
    "\n",
    "#set working directory\n",
    "dir.create(\"chipseq/\")\n",
    "setwd(\"chipseq/\")\n"
   ]
  },
  {
   "cell_type": "code",
   "execution_count": null,
   "metadata": {},
   "outputs": [],
   "source": [
    "#download required count matrix. GEO ID given here\n",
    "\n",
    "#"
   ]
  },
  {
   "cell_type": "code",
   "execution_count": null,
   "metadata": {
    "scrolled": true
   },
   "outputs": [],
   "source": [
    "#retreive CTCF motifs from JASPAR\n",
    "\n",
    "suppressMessages(library(AnnotationHub))\n",
    "ah <- AnnotationHub()\n",
    "query_data <- subset(ah, preparerclass == \"CTCF\")\n",
    "query_data\n",
    "CTCF_hg38 <- query_data[[\"AH104729\"]]\n",
    "CTCF_hg38"
   ]
  },
  {
   "cell_type": "code",
   "execution_count": null,
   "metadata": {},
   "outputs": [],
   "source": [
    "#set up count matrix, and normalize using CPM for scatterplots\n",
    "\n",
    "x = read.table(\"~/ctcf_motif_counts_all_reps_sg4.tsv\", sep = \"\\t\")\n",
    "ctcf_grp = c('Safe.Harbor.CTCF.rep1.bam','Safe.Harbor.CTCF.rep2.bam',\n",
    "        'sg10mer.CTCF.rep1.bam','sg10mer.CTCF.rep2.bam')\n",
    "\n",
    "y = DGEList(counts = x[,ctcf_grp])\n",
    "norm_counts <- as.data.frame(cpm(y, log=FALSE))\n",
    "\n",
    "keep <- filterByExpr(y, min.count = 1, group = c(0,0,1,1))\n",
    "y <- y[keep,,keep.lib.sizes=FALSE]\n",
    "isexpr = rowSums(cpm(y)>=5) >= 2\n"
   ]
  },
  {
   "cell_type": "code",
   "execution_count": null,
   "metadata": {},
   "outputs": [],
   "source": [
    "#set up annotations in norm_counts dataframe \n",
    "\n",
    "sites_10mer = read.table(\"sg4_10mer_seq.bed\", sep = \"\\t\")\n",
    "sites_13mer = read.table(\"sg4_13mer_seq.bed\", sep = \"\\t\")\n",
    "\n",
    "grsites_10mer = makeGRangesFromDataFrame(sites_10mer, seqnames.field = \"V1\", start.field = \"V2\", end.field = \"V3\")\n",
    "grsites_13mer = makeGRangesFromDataFrame(sites_13mer, seqnames.field = \"V1\", start.field = \"V2\", end.field = \"V3\")\n",
    "\n",
    "ov_13mer = findOverlaps(grsites_13mer,grsites_10mer)\n",
    "\n",
    "ov = findOverlaps(grsites_10mer, resize(CTCF_hg38, 500, fix = \"center\"))\n",
    "ov_strict = findOverlaps(grsites_10mer,CTCF_hg38)\n",
    "\n",
    "sites_10mer$site = \"10mer\"\n",
    "sites_10mer[subjectHits(ov_13mer),\"site\"] = \"13mer\"\n",
    "\n",
    "norm_counts$site = \"no_site\"\n",
    "norm_counts[subjectHits(ov), \"site\"] = sites_10mer[queryHits(ov),\"site\"]\n",
    "\n",
    "norm_counts$motif = \"sg4\"\n",
    "norm_counts = norm_counts %>% arrange(desc(site))\n",
    "\n",
    "nrow(norm_counts)\n",
    "head(norm_counts)"
   ]
  },
  {
   "cell_type": "code",
   "execution_count": null,
   "metadata": {},
   "outputs": [],
   "source": [
    "#filter CPM count matrix\n",
    "\n",
    "counts_filt_df = as.data.frame(cpm(y[isexpr,]))\n",
    "counts_filt_df$site = norm_counts[rownames(cpm(y)),\"site\"]\n",
    "counts_filt_df$guide = \"sg4\"\n",
    "\n",
    "counts_filt_df = counts_filt_df %>% arrange(desc(site))\n",
    "nrow(counts_filt_df)\n",
    "table(counts_filt_df$site)"
   ]
  },
  {
   "cell_type": "code",
   "execution_count": null,
   "metadata": {},
   "outputs": [],
   "source": [
    "#scatterplot Safe Harbor vs 10mer rep1\n",
    "\n",
    "p = ggplot(data = counts_filt_df %>% arrange(rev(site))) + \n",
    "geom_point(aes(x = Safe.Harbor.CTCF.rep1.bam, y = sg10mer.CTCF.rep1.bam, color = site), alpha = 1, size = 3) +\n",
    "geom_abline(linetype = \"dashed\") + \n",
    "xlab(\"Safe Harbor Normalized CTCF Counts rep1\") + \n",
    "ylab(\"sg4 10mer Normalized CTCF Counts rep1\") +\n",
    "geom_vline(xintercept = 0) + \n",
    "geom_hline(yintercept = 0) +\n",
    "theme(axis.text = element_text(size = 15)) +\n",
    "theme(axis.title = element_text(size = 20)) + \n",
    "theme(legend.text = element_text(size = 15)) +\n",
    "xlim(c(-1,max(c(counts_filt_df$Safe.Harbor.CTCF.rep1.bam, counts_filt_df$sg10mer.CTCF.rep1.bam)))) +\n",
    "ylim(c(-1,max(c(counts_filt_df$Safe.Harbor.CTCF.rep1.bam, counts_filt_df$sg10mer.CTCF.rep1.bam)))) +\n",
    "scale_color_manual(name = \"Sites\", values= c(\"black\",\"#BBBBBB\",\"#BBBBBB\"), labels = c(\"Perfect Match\", \"Partial Match\", \"Partial Match\")) +\n",
    "theme(axis.text = element_text(size = 18), \n",
    "      axis.text.x = element_text(margin = margin(t = 10, r = 0, b = 0, l = 0), colour = \"black\"),\n",
    "      axis.text.y = element_text(colour = \"black\"),\n",
    "      axis.title = element_text(size = 20), \n",
    "      legend.text = element_text(size = 15),\n",
    "      legend.title = element_text(size=15),\n",
    "      axis.title.y = element_text(margin = margin(t = 0, r = 20, b = 0, l = 0)))\n",
    "\n",
    "p"
   ]
  },
  {
   "cell_type": "code",
   "execution_count": null,
   "metadata": {},
   "outputs": [],
   "source": [
    "#scatterplot Safe Harbor vs 10mer rep2\n",
    "\n",
    "p = ggplot(data = counts_filt_df %>% arrange(rev(site))) + \n",
    "geom_point(aes(x = Safe.Harbor.CTCF.rep2.bam, y = sg10mer.CTCF.rep2.bam, color = site), alpha = 1, size = 3) +\n",
    "geom_abline(linetype = \"dashed\") + \n",
    "xlab(\"Safe Harbor Normalized CTCF Counts rep2\") + \n",
    "ylab(\"sg4 10mer Normalized CTCF Counts rep2\") +\n",
    "geom_vline(xintercept = 0) + \n",
    "geom_hline(yintercept = 0) +\n",
    "theme(axis.text = element_text(size = 15)) +\n",
    "theme(axis.title = element_text(size = 20)) + \n",
    "theme(legend.text = element_text(size = 15)) +\n",
    "xlim(c(-1,max(c(counts_filt_df$Safe.Harbor.CTCF.rep2.bam, counts_filt_df$sg10mer.CTCF.rep2.bam)))) +\n",
    "ylim(c(-1,max(c(counts_filt_df$Safe.Harbor.CTCF.rep2.bam, counts_filt_df$sg10mer.CTCF.rep2.bam)))) +\n",
    "scale_color_manual(name = \"Sites\", values= c(\"black\",\"#BBBBBB\",\"#BBBBBB\"), labels = c(\"Perfect Match\", \"Partial Match\", \"Partial Match\")) +\n",
    "theme(axis.text = element_text(size = 18), \n",
    "      axis.text.x = element_text(margin = margin(t = 10, r = 0, b = 0, l = 0), colour = \"black\"),\n",
    "      axis.text.y = element_text(colour = \"black\"),\n",
    "      axis.title = element_text(size = 20), \n",
    "      legend.text = element_text(size = 15),\n",
    "      legend.title = element_text(size=15),\n",
    "      axis.title.y = element_text(margin = margin(t = 0, r = 20, b = 0, l = 0)))\n",
    "\n",
    "p"
   ]
  },
  {
   "cell_type": "code",
   "execution_count": null,
   "metadata": {},
   "outputs": [],
   "source": [
    "#set up count matrix - normalize using TMM for dream analysis\n",
    "\n",
    "y = calcNormFactors( y[isexpr,] )\n",
    "\n",
    "nrow(y$counts)"
   ]
  },
  {
   "cell_type": "code",
   "execution_count": null,
   "metadata": {},
   "outputs": [],
   "source": [
    "#set up design matrix \n",
    "\n",
    "design_df = data.frame(id = ctcf_grp, cond = factor(c(\"SH\",\"SH\",\"10mer\",\"10mer\")), replicate = factor(c(1,2,1,2)) )\n",
    "rownames(design_df) = design_df$id\n",
    "design_df$cond = relevel(design_df$cond, ref = \"SH\")\n",
    "design_df"
   ]
  },
  {
   "cell_type": "code",
   "execution_count": null,
   "metadata": {},
   "outputs": [],
   "source": [
    "#set up threading parameters\n",
    "\n",
    "param = SnowParam(6, \"SOCK\", progressbar=TRUE)"
   ]
  },
  {
   "cell_type": "code",
   "execution_count": null,
   "metadata": {},
   "outputs": [],
   "source": [
    "#run variancePartition model\n",
    "\n",
    "varPart <- fitExtractVarPartModel( cpm(y), ~ (1|cond) + (1|replicate), design_df, BPPARAM=param )\n",
    "vp <- sortCols( varPart )\n",
    "plotVarPart(vp)"
   ]
  },
  {
   "cell_type": "code",
   "execution_count": null,
   "metadata": {},
   "outputs": [],
   "source": [
    "#run voom with dream weights model\n",
    "\n",
    "gc()\n",
    "form <- ~ cond + (1|replicate) \n",
    "vobjDream = voomWithDreamWeights(cpm(y), form, design_df, BPPARAM=param )"
   ]
  },
  {
   "cell_type": "code",
   "execution_count": null,
   "metadata": {},
   "outputs": [],
   "source": [
    "#run dream model\n",
    "\n",
    "gc()\n",
    "fitmm = dream( vobjDream, form, design_df, BPPARAM=param )\n"
   ]
  },
  {
   "cell_type": "code",
   "execution_count": null,
   "metadata": {},
   "outputs": [],
   "source": [
    "#run eBayes model \n",
    "\n",
    "fitmm = eBayes(fitmm)"
   ]
  },
  {
   "cell_type": "code",
   "execution_count": null,
   "metadata": {},
   "outputs": [],
   "source": [
    "##Uncomment if you would like to save the fitmm object\n",
    "\n",
    "#saveRDS(fitmm,\"~/fitmm_sg4_chipseq_ctcf.rds\")\n",
    "#fitmm = readRDS(\"~/fitmm_sg4_chipseq_ctcf.rds\")"
   ]
  },
  {
   "cell_type": "code",
   "execution_count": null,
   "metadata": {},
   "outputs": [],
   "source": [
    "#extract significant results between 10mer and Safe Harbor \n",
    "\n",
    "var_df_res = as.data.frame(topTable( fitmm, coef='cond10mer', number = Inf))\n",
    "\n",
    "write.table(var_df_res, \"sg4-ctcf-dream-pvals.tsv\", sep = \"\\t\")\n",
    "#var_df_res = read.table(\"sg4-ctcf-dream-pvals.tsv\", sep = \"\\t\")"
   ]
  },
  {
   "cell_type": "code",
   "execution_count": null,
   "metadata": {},
   "outputs": [],
   "source": [
    "var_df_res$site = norm_counts[rownames(var_df_res),\"site\"]\n",
    "var_df_res$guide = \"sg4\" \n",
    "var_df_res = var_df_res %>% arrange(desc(site))\n",
    "\n",
    "head(var_df_res)"
   ]
  },
  {
   "cell_type": "code",
   "execution_count": null,
   "metadata": {},
   "outputs": [],
   "source": [
    "#volcano plot\n",
    "\n",
    "p_cut = 1e-5\n",
    "fc_cut = 0.5\n",
    "ggplot(data= var_df_res, aes(x= logFC, y= -log10(adj.P.Val))) +\n",
    "     geom_point(colour= 'grey80', size = 2) +\n",
    "     geom_point(data= var_df_res[which((abs(var_df_res$adj.P.Val) < p_cut) & (abs(var_df_res$logFC) > fc_cut)),], colour= 'red') +\n",
    "     geom_hline(yintercept= c(-log10(p_cut)), colour= 'black', linetype= 'dashed') +\n",
    "     geom_vline(xintercept= c(-fc_cut,fc_cut), colour= 'black', linetype= 'dashed') +\n",
    "     xlab('log2 fold-change') +\n",
    "     ylab('-log10(adj.P.Val)') +\n",
    "     theme_classic()\n",
    "\n",
    "ggplot(data= var_df_res, aes(x= logFC, y= -log10(adj.P.Val))) +\n",
    "     geom_point(aes(colour= site), size = 2) +\n",
    "     geom_hline(yintercept= c(-log10(p_cut)), colour= 'black', linetype= 'dashed') +\n",
    "     geom_vline(xintercept= c(-fc_cut,fc_cut), colour= 'black', linetype= 'dashed') +\n",
    "     xlab('log2 fold-change') +\n",
    "     ylab('-log10(adj.P.Val)') +\n",
    "     theme_classic()\n"
   ]
  },
  {
   "cell_type": "code",
   "execution_count": null,
   "metadata": {},
   "outputs": [],
   "source": [
    "#volcano plot - color by site\n",
    "\n",
    "p_cut = 1e-5\n",
    "fc_cut = 0.5\n",
    "\n",
    "p = ggplot(data= var_df_res, aes(x= logFC, y= -log10(adj.P.Val))) +\n",
    "    geom_point(aes(colour= site), size = 2) +\n",
    "    geom_hline(yintercept= c(-log10(p_cut)), colour= 'black', linetype= 'dashed') +\n",
    "    geom_vline(xintercept= c(-fc_cut,fc_cut), colour= 'black', linetype= 'dashed') +\n",
    "    xlab('log2 fold-change') +\n",
    "    ylab('-log10(adj.P.Val)') +\n",
    "    scale_color_manual(name = \"Sites\", values= c(\"#b30000\",\"#BBBBBB\"), labels = c(\"On target\", \"Not targeted\")) +\n",
    "    theme_classic() +\n",
    "    theme(axis.text = element_text(size = 18), \n",
    "        axis.text.x = element_text(margin = margin(t = 10, r = 0, b = 0, l = 0), colour = \"black\"),\n",
    "        axis.text.y = element_text(colour = \"black\"),\n",
    "        axis.title = element_text(size = 20), \n",
    "        legend.text = element_text(size = 15),\n",
    "        legend.title = element_text(size=15),\n",
    "        axis.title.y = element_text(margin = margin(t = 0, r = 20, b = 0, l = 0)))\n",
    "\n",
    "p"
   ]
  },
  {
   "cell_type": "code",
   "execution_count": null,
   "metadata": {},
   "outputs": [],
   "source": [
    "#volcano plot - color by significance\n",
    "\n",
    "p_cut = 1e-5\n",
    "fc_cut = 0.5\n",
    "\n",
    "p = ggplot(data= var_df_res, aes(x= logFC, y= -log10(adj.P.Val))) +\n",
    "    geom_point(colour= 'grey80', size = 2) +\n",
    "    geom_point(data= var_df_res[which((abs(var_df_res$adj.P.Val) < p_cut) & (abs(var_df_res$logFC) > fc_cut)),], colour= 'red') +\n",
    "    geom_hline(yintercept= c(-log10(p_cut)), colour= 'black', linetype= 'dashed') +\n",
    "    geom_vline(xintercept= c(-fc_cut,fc_cut), colour= 'black', linetype= 'dashed') +\n",
    "    xlab('log2 fold-change') +\n",
    "    ylab('-log10(adj.P.Val)') +\n",
    "    theme_classic() +\n",
    "    theme(axis.text = element_text(size = 18), \n",
    "        axis.text.x = element_text(margin = margin(t = 10, r = 0, b = 0, l = 0), colour = \"black\"),\n",
    "        axis.text.y = element_text(colour = \"black\"),\n",
    "        axis.title = element_text(size = 20), \n",
    "        legend.text = element_text(size = 15),\n",
    "        legend.title = element_text(size=15),\n",
    "        axis.title.y = element_text(margin = margin(t = 0, r = 20, b = 0, l = 0)))\n",
    "\n",
    "p"
   ]
  },
  {
   "cell_type": "code",
   "execution_count": null,
   "metadata": {},
   "outputs": [],
   "source": [
    "table(var_df_res[which((abs(var_df_res$adj.P.Val) < p_cut) &(abs(var_df_res$logFC) > fc_cut)),\"site\"])"
   ]
  }
 ],
 "metadata": {
  "kernelspec": {
   "display_name": "R",
   "language": "R",
   "name": "ir"
  },
  "language_info": {
   "codemirror_mode": "r",
   "file_extension": ".r",
   "mimetype": "text/x-r-source",
   "name": "R",
   "pygments_lexer": "r",
   "version": "4.1.2"
  },
  "toc": {
   "base_numbering": 1,
   "nav_menu": {},
   "number_sections": true,
   "sideBar": true,
   "skip_h1_title": false,
   "title_cell": "Table of Contents",
   "title_sidebar": "Contents",
   "toc_cell": false,
   "toc_position": {},
   "toc_section_display": true,
   "toc_window_display": false
  }
 },
 "nbformat": 4,
 "nbformat_minor": 2
}
