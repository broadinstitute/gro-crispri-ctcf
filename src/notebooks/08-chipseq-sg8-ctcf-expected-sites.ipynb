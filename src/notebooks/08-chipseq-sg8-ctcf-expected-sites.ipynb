{
 "cells": [
  {
   "cell_type": "code",
   "execution_count": null,
   "metadata": {},
   "outputs": [],
   "source": [
    "## This analysis script is used to create Supp Fig. 7a"
   ]
  },
  {
   "cell_type": "code",
   "execution_count": null,
   "metadata": {},
   "outputs": [],
   "source": [
    "#install required R packages \n",
    "suppressMessages(install.packages(\"BiocManager\"))\n",
    "suppressMessages(BiocManager::install(c('tidyr','dplyr','ggplot2','GenomicRanges','ggsignif')))"
   ]
  },
  {
   "cell_type": "code",
   "execution_count": null,
   "metadata": {},
   "outputs": [],
   "source": [
    "suppressMessages(library('tidyr'))\n",
    "suppressMessages(library('dplyr'))\n",
    "suppressMessages(library('ggplot2'))\n",
    "suppressMessages(library('BiocParallel'))\n",
    "suppressMessages(library('GenomicRanges'))\n",
    "suppressMessages(library('ggsignif'))\n",
    "\n",
    "options(repr.plot.width=15, repr.plot.height=10)\n",
    "\n",
    "#set working directory\n",
    "\n",
    "dir.create(\"chipseq/\")\n",
    "setwd(\"chipseq/\")"
   ]
  },
  {
   "cell_type": "code",
   "execution_count": null,
   "metadata": {},
   "outputs": [],
   "source": [
    "#download required count matrix. GEO ID given here \n",
    "\n",
    "#GSE246939 - sg8_CTCF_500bp_counts.tsv"
   ]
  },
  {
   "cell_type": "code",
   "execution_count": null,
   "metadata": {},
   "outputs": [],
   "source": [
    "#filter CTCF counts based on CPM >=5 in atleast 2 samples\n",
    "\n",
    "x = read.table(\"sg8_CTCF_500bp_counts.tsv\", sep = \"\\t\")\n",
    "ctcf_grp = c('Safe.Harbor.CTCF.rep1.bam','Safe.Harbor.CTCF.rep2.bam',\n",
    "        'sg10mer.CTCF.rep1.bam','sg10mer.CTCF.rep2.bam')\n",
    "\n",
    "y = DGEList(counts = x[,ctcf_grp])\n",
    "keep <- filterByExpr(y, min.count = 1, group = c(0,0,1,1))\n",
    "y <- y[keep,,keep.lib.sizes=FALSE]\n",
    "\n",
    "nrow(y$counts)\n",
    "\n",
    "isexpr = rowSums(cpm(y)>=5) >= 2\n",
    "\n",
    "y = calcNormFactors( y[isexpr,] )\n",
    "\n",
    "nrow(y$counts)"
   ]
  },
  {
   "cell_type": "code",
   "execution_count": null,
   "metadata": {},
   "outputs": [],
   "source": [
    "#set up annotations in norm_counts dataframe \n",
    "\n",
    "norm_counts = as.data.frame(cpm(y, log=FALSE))\n",
    "\n",
    "sites_10mer = read.table(\"sg4_10mer_seq.bed\", sep = \"\\t\")\n",
    "\n",
    "grsites_10mer = makeGRangesFromDataFrame(sites_10mer, seqnames.field = \"V1\", start.field = \"V2\", end.field = \"V3\")\n",
    "\n",
    "ov = findOverlaps(grsites_10mer, resize(CTCF_hg38, 500, fix = \"center\"))\n",
    "sites_10mer$site = \"10mer\"\n",
    "\n",
    "norm_counts$site = \"no_site\"\n",
    "norm_counts[subjectHits(ov), \"site\"] = sites_10mer[queryHits(ov),\"site\"]\n",
    "\n",
    "norm_counts$motif = \"sg4\"\n",
    "norm_counts = norm_counts %>% arrange(desc(site))\n",
    "nrow(norm_counts)"
   ]
  },
  {
   "cell_type": "code",
   "execution_count": null,
   "metadata": {},
   "outputs": [],
   "source": [
    "mat_check = norm_counts %>% filter(site == \"10mer\", rownames(norm_counts) %in% rownames(y$counts))\n",
    "mat_check$mean_safe = rowMeans(mat_check[,c(\"Safe.Harbor.CTCF.rep1.bam\", \"Safe.Harbor.CTCF.rep2.bam\")])\n",
    "mat_check$mean_10mer = rowMeans(mat_check[,c(\"sg10mer.CTCF.rep1.bam\", \"sg10mer.CTCF.rep2.bam\")])\n",
    "plot_df = pivot_longer(mat_check, cols = c(7,8))\n",
    "#plot_df$group = \"sig_sites\"\n",
    "\n",
    "colorder=c(\"red\",\"blue\")\n",
    "\n",
    "ggplot(data=plot_df ,aes(x = reorder(name, -value), y = value, fill = name)) + \n",
    "geom_boxplot() + \n",
    "geom_point(position = position_jitter(seed = 1, width = 0.1)) +\n",
    "geom_signif(comparisons = list(c(\"mean_safe\", \"mean_10mer\")), map_signif_level=TRUE, size = 1, textsize = 8) + \n",
    "ylab(\"Normalized CTCF counts\") +\n",
    "scale_x_discrete(name=\"\", labels=c(\"mean_safe\" = \"Safe Harbor\", 'mean_10mer'= '10mer')) + \n",
    "scale_fill_manual( labels=c('10mer',\"Safe Harbor\"), values= c(\"#b30000\",\"#00BFC4\")) + \n",
    "theme_classic() + \n",
    "theme(axis.text = element_text(size = 18), \n",
    "      axis.text.x = element_text(margin = margin(t = 10, r = 0, b = 0, l = 0), colour = \"black\"),\n",
    "      axis.text.y = element_text(colour = \"black\"),\n",
    "      axis.title = element_text(size = 20), \n",
    "      legend.text = element_text(size = 15),\n",
    "      legend.title = element_text(size=15),\n",
    "      legend.position = \"none\",\n",
    "      axis.title.y = element_text(margin = margin(t = 0, r = 20, b = 0, l = 0)))\n",
    "\n",
    "\n"
   ]
  },
  {
   "cell_type": "code",
   "execution_count": null,
   "metadata": {},
   "outputs": [],
   "source": [
    "t.test(mat_check$mean_safe, mat_check$mean_10mer)$p.value #1x1\n"
   ]
  }
 ],
 "metadata": {
  "kernelspec": {
   "display_name": "R",
   "language": "R",
   "name": "ir"
  },
  "language_info": {
   "codemirror_mode": "r",
   "file_extension": ".r",
   "mimetype": "text/x-r-source",
   "name": "R",
   "pygments_lexer": "r",
   "version": "4.1.2"
  },
  "toc": {
   "base_numbering": 1,
   "nav_menu": {},
   "number_sections": true,
   "sideBar": true,
   "skip_h1_title": false,
   "title_cell": "Table of Contents",
   "title_sidebar": "Contents",
   "toc_cell": false,
   "toc_position": {},
   "toc_section_display": true,
   "toc_window_display": false
  }
 },
 "nbformat": 4,
 "nbformat_minor": 2
}
