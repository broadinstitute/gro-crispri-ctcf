{
 "cells": [
  {
   "cell_type": "code",
   "execution_count": null,
   "metadata": {},
   "outputs": [],
   "source": [
    "## This analysis script is used to create Supp Fig. 5a"
   ]
  },
  {
   "cell_type": "code",
   "execution_count": null,
   "metadata": {},
   "outputs": [],
   "source": [
    "import requests\n",
    "import os\n",
    "from IPython.display import Image\n",
    "\n",
    "os.chdir('chipseq/')\n"
   ]
  },
  {
   "cell_type": "code",
   "execution_count": null,
   "metadata": {},
   "outputs": [],
   "source": [
    "#This notebook requires installation of deeptools. Most cases, pip install deeptools should work. \n",
    "#See here for more options: https://deeptools.readthedocs.io/en/develop/content/installation.html"
   ]
  },
  {
   "cell_type": "code",
   "execution_count": null,
   "metadata": {},
   "outputs": [],
   "source": [
    "# Download bigwig coverage files. GEO IDs given here\n",
    "\n",
    "#GSM7881206 - Jurkat Safe Harbor CTCF rep1\n",
    "#GSM7881207 - Jurkat Safe Harbor CTCF rep2\n",
    "#GSM7881210 - Jurkat sg4 CTCF rep1\n",
    "#GSM7881211 - Jurkat sg4 CTCF rep2\n",
    "#GSM7881214 - Jurkat [aag]sg4 CTCF rep1\n",
    "#GSM7881215 - Jurkat [aag]sg4 CTCF rep2\n",
    "\n",
    "#GSM7881218 - Jurkat Safe Harbor H3K9me3 rep1\n",
    "#GSM7881219 - Jurkat Safe Harbor H3K9me3 rep2\n",
    "#GSM7881220 - Jurkat sg4 H3K9me3 rep1\n",
    "#GSM7881221 - Jurkat sg4 H3K9me3 rep2\n",
    "\n",
    "# - Jurkat Safe Harbor dCas9 rep1\n",
    "# - Jurkat Safe Harbor dCas9 rep2\n",
    "# - Jurkat sg4 dCas9 rep1\n",
    "# - Jurkat sg4 dCas9 rep2"
   ]
  },
  {
   "cell_type": "code",
   "execution_count": null,
   "metadata": {},
   "outputs": [],
   "source": [
    "#CTCF matrix#\n",
    "\n",
    "!computeMatrix reference-point \\\n",
    "-S Jurkat_Safe_Harbor_CTCF_rep1.bw \\\n",
    "Jurkat_Safe_Harbor_CTCF_rep2.bw \\\n",
    "Jurkat_aagsg4_CTCF_rep1.bw \\\n",
    "Jurkat_aagsg4_CTCF_rep2.bw \\\n",
    "Jurkat_sg4_CTCF_rep1.bw \\\n",
    "Jurkat_sg4_CTCF_rep2.bw \\\n",
    "-R ../reference/sg4_13mer_seq.bed \\\n",
    "../reference/sg4_10mer_seq.bed \\\n",
    "--beforeRegionStartLength 3000 \\\n",
    "--afterRegionStartLength 3000 \\\n",
    "-p 1 \\\n",
    "--missingDataAsZero \\\n",
    "-o sg4-ctcf.mat.gz"
   ]
  },
  {
   "cell_type": "code",
   "execution_count": null,
   "metadata": {},
   "outputs": [],
   "source": [
    "#H3k9me3 matrix\n",
    "\n",
    "!computeMatrix reference-point \\\n",
    "-S Jurkat_Safe_Harbor_H3K9me3_rep1.bw \\\n",
    "Jurkat_Safe_Harbor_H3K9me3_rep2.bw \\\n",
    "Jurkat_aagsg4_H3K9me3_rep1.bw \\\n",
    "Jurkat_aagsg4_H3K9me3_rep2.bw \\\n",
    "Jurkat_sg4_H3K9me3_rep1.bw \\\n",
    "Jurkat_sg4_H3K9me3_rep2.bw \\\n",
    "-R ../reference/sg4_13mer_seq.bed \\\n",
    "../reference/sg4_10mer_seq.bed \\\n",
    "--beforeRegionStartLength 3000 \\\n",
    "--afterRegionStartLength 3000 \\\n",
    "-p 1 \\\n",
    "--missingDataAsZero \\\n",
    "-o sg4-h3k9me3.mat.gz"
   ]
  },
  {
   "cell_type": "code",
   "execution_count": null,
   "metadata": {},
   "outputs": [],
   "source": [
    "#cas9 matrix\n",
    "\n",
    "!computeMatrix reference-point \\\n",
    "-S Jurkat_Safe_Harbor_Cas9_rep1.bw \\\n",
    "Jurkat_Safe_Harbor_Cas9_rep2.bw \\\n",
    "Jurkat_sg4_Cas9_rep1.bw \\\n",
    "Jurkat_sg4_Cas9_rep2.bw \\\n",
    "-R ../reference/sg4_10mer_seq.bed \\\n",
    "../reference/random1k_ctcf.bed \\\n",
    "--beforeRegionStartLength 3000 \\\n",
    "--afterRegionStartLength 3000 \\\n",
    "-p 1 \\\n",
    "--missingDataAsZero \\\n",
    "-o sg4-cas9.mat.gz"
   ]
  },
  {
   "cell_type": "code",
   "execution_count": null,
   "metadata": {},
   "outputs": [],
   "source": [
    "#plot heatmaps \n",
    "\n",
    "!plotHeatmap -m sg4-ctcf.mat.gz --colorMap \"YlGn\" --refPointLabel \"PAM\"  -out plots/sg4-ctcf.png\n",
    "!plotHeatmap -m sg4-h3k9me3.mat.gz --colorMap \"YlGn\" --refPointLabel \"PAM\"  -out plots/sg4-h3k9me3.png\n",
    "!plotHeatmap -m sg4-cas9.mat.gz --colorMap \"YlGn\" --refPointLabel \"PAM\"  -out plots/sg4-cas9.png\n"
   ]
  },
  {
   "cell_type": "code",
   "execution_count": null,
   "metadata": {},
   "outputs": [],
   "source": [
    "#plot h3k9me3 heatmap\n",
    "\n",
    "!plotHeatmap -m sg4-h3k9me3.mat.gz \\\n",
    "--colorMap \"YlGn\" \\\n",
    "--refPointLabel \"PAM\"  \\\n",
    "--heatmapHeight 40 \\\n",
    "--heatmapWidth 10 \\\n",
    "--xAxisLabel \"distance\" \\\n",
    "-out plots/sg4-h3k9me3.png"
   ]
  },
  {
   "cell_type": "code",
   "execution_count": null,
   "metadata": {},
   "outputs": [],
   "source": [
    "Image(filename='plots/sg4-h3k9me3.png')"
   ]
  },
  {
   "cell_type": "code",
   "execution_count": null,
   "metadata": {},
   "outputs": [],
   "source": [
    "#plot ctcf heatmap\n",
    "\n",
    "!plotHeatmap -m sg4-ctcf.mat.gz \\\n",
    "--colorMap \"YlGn\" \\\n",
    "--refPointLabel \"PAM\"  \\\n",
    "--heatmapHeight 40 \\\n",
    "--heatmapWidth 10 \\\n",
    "--xAxisLabel \"distance\" \\\n",
    "-out plots/sg4-ctcf.svg"
   ]
  },
  {
   "cell_type": "code",
   "execution_count": null,
   "metadata": {},
   "outputs": [],
   "source": [
    "Image(filename='plots/sg4-ctcf.png')"
   ]
  },
  {
   "cell_type": "code",
   "execution_count": null,
   "metadata": {},
   "outputs": [],
   "source": [
    "#plot ctcf heatmap\n",
    "\n",
    "!plotHeatmap -m sg4-cas9.mat.gz \\\n",
    "--colorMap \"YlGn\" \\\n",
    "--refPointLabel \"PAM\"  \\\n",
    "--heatmapHeight 40 \\\n",
    "--heatmapWidth 10 \\\n",
    "--xAxisLabel \"distance\" \\\n",
    "-out plots/sg4-cas9.svg"
   ]
  },
  {
   "cell_type": "code",
   "execution_count": null,
   "metadata": {},
   "outputs": [],
   "source": [
    "Image(filename='plots/sg4-cas9.png')"
   ]
  },
  {
   "cell_type": "code",
   "execution_count": null,
   "metadata": {},
   "outputs": [],
   "source": [
    "#plot h3k9me3 profile \n",
    "\n",
    "!computeMatrix reference-point \\\n",
    "-S Safe-Harbor-H3k9me3-rep1.bw \\\n",
    "Safe-Harbor-H3k9me3-rep2.bw \\\n",
    "sg10mer-H3k9me3-rep1.bw \\\n",
    "sg10mer-H3k9me3-rep2.bw \\\n",
    "-R /home/jupyter/data/sites/sg4_10mer_sites.bed \\\n",
    "--beforeRegionStartLength 3000 \\\n",
    "--afterRegionStartLength 3000 \\\n",
    "-p 1 \\\n",
    "--missingDataAsZero \\\n",
    "-o sg4-h3k9me3-10mer.mat.gz\n",
    "\n",
    "!plotProfile -m sg4-h3k9me3-10mer.mat.gz \\\n",
    "      --perGroup \\\n",
    "      --legendLocation \"upper-right\" \\\n",
    "      --refPointLabel \"PAM\" \\\n",
    "      --plotHeight 15 \\\n",
    "      --plotWidth 15 \\\n",
    "      -out \"h3k9me3-10mer-profile.png\"\n"
   ]
  },
  {
   "cell_type": "code",
   "execution_count": null,
   "metadata": {},
   "outputs": [],
   "source": [
    "Image(filename='h3k9me3-10mer-profile.png') "
   ]
  },
  {
   "cell_type": "code",
   "execution_count": null,
   "metadata": {},
   "outputs": [],
   "source": [
    "Image(filename='plots/sg4-h3k9me3.png') "
   ]
  }
 ],
 "metadata": {
  "kernelspec": {
   "display_name": "Python 3 (ipykernel)",
   "language": "python",
   "name": "python3"
  },
  "language_info": {
   "codemirror_mode": {
    "name": "ipython",
    "version": 3
   },
   "file_extension": ".py",
   "mimetype": "text/x-python",
   "name": "python",
   "nbconvert_exporter": "python",
   "pygments_lexer": "ipython3",
   "version": "3.8.2"
  },
  "toc": {
   "base_numbering": 1,
   "nav_menu": {},
   "number_sections": true,
   "sideBar": true,
   "skip_h1_title": false,
   "title_cell": "Table of Contents",
   "title_sidebar": "Contents",
   "toc_cell": false,
   "toc_position": {},
   "toc_section_display": true,
   "toc_window_display": false
  }
 },
 "nbformat": 4,
 "nbformat_minor": 2
}
